{
  "nbformat": 4,
  "nbformat_minor": 0,
  "metadata": {
    "colab": {
      "provenance": []
    },
    "kernelspec": {
      "name": "python3",
      "display_name": "Python 3"
    },
    "language_info": {
      "name": "python"
    }
  },
  "cells": [
    {
      "cell_type": "code",
      "source": [
        "import pandas as pd\n",
        "from sklearn.model_selection import train_test_split\n",
        "from sklearn.tree import DecisionTreeRegressor\n",
        "from sklearn.metrics import mean_squared_error, mean_absolute_error\n",
        "\n",
        "data = pd.read_csv('data.csv')\n",
        "data['Date'] = pd.to_datetime(data['Date'])\n",
        "data['Year'] = data['Date'].dt.year\n",
        "data['Month'] = data['Date'].dt.month\n",
        "data['Day_of_week'] = data['Date'].dt.dayofweek\n",
        "data['Day'] = data['Date'].dt.day\n",
        "\n",
        "\n",
        "X = data[['Day_of_week', 'Day', 'Month', 'Year','Event',\n",
        "          'India_Reservation', 'Chinese > 100', 'Indian > 100']]\n",
        "y = data[['Customers_Chinese', 'Customers_India']]\n",
        "\n",
        "\n",
        "X_train,X_test,y_train, y_test = train_test_split(X,y,test_size = 7)\n",
        "\n",
        "model = DecisionTreeRegressor(random_state=42)\n",
        "model.fit(X_train,y_train)\n",
        "\n",
        "predictions = pd.DataFrame(model.predict(X_test), columns=['Predicted_Customers_Chinese', 'Predicted_Customers_India'])\n",
        "X_test['Date'] = X_test.apply(lambda row: f\"{row['Day']}/{row['Month']}/{row['Year']}\", axis=1)\n",
        "predictions['Date']= pd.to_datetime(X_test['Date'].values, format='%d/%m/%Y')\n",
        "predictions['Day_of_week'] = predictions['Date'].dt.day_name()\n",
        "predictions = predictions[['Date', 'Day_of_week', 'Predicted_Customers_Chinese', 'Predicted_Customers_India']]\n",
        "\n",
        "print(predictions)\n"
      ],
      "metadata": {
        "id": "sLDZnCm5guDu"
      },
      "execution_count": null,
      "outputs": []
    }
  ]
}