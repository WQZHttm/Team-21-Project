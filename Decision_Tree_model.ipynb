{
  "nbformat": 4,
  "nbformat_minor": 0,
  "metadata": {
    "colab": {
      "provenance": []
    },
    "kernelspec": {
      "name": "python3",
      "display_name": "Python 3"
    },
    "language_info": {
      "name": "python"
    }
  },
  "cells": [
    {
      "cell_type": "code",
      "source": [
        "import pandas as pd\n",
        "from sklearn.model_selection import train_test_split\n",
        "from sklearn.tree import DecisionTreeRegressor\n",
        "\n",
        "data = pd.read_csv('data.csv')\n",
        "data['Date'] = pd.to_datetime(data['Date'])\n",
        "data['Year'] = data['Date'].dt.year\n",
        "data['Month'] = data['Date'].dt.month\n",
        "data['Day_of_week'] = data['Date'].dt.dayofweek\n",
        "data['Day'] = data['Date'].dt.day\n",
        "data['Public Holiday'] = data['Public Holiday'].fillna(0)\n",
        "data['Public Holiday'] = data['Public Holiday'].apply(lambda x: 1 if x else 0)\n",
        "data['Event'] = data['Event'].apply(lambda x: 1 if x == 'TRUE' else 0)\n",
        "\n",
        "X = data[['Day_of_week', 'Day', 'Month', 'Year','Event', 'Public Holiday',\n",
        "          'India_Reservation']]\n",
        "y = data[['Customers_Chinese', 'Customers_India']]\n",
        "\n",
        "busy_threshold = 100\n",
        "def is_busy(customers_prediction):\n",
        "    return customers_prediction > busy_threshold\n",
        "\n",
        "X_train,X_test,y_train, y_test = train_test_split(X,y,test_size = 7)\n",
        "\n",
        "model = DecisionTreeRegressor(random_state=42)\n",
        "model.fit(X_train,y_train)\n",
        "\n",
        "predictions = pd.DataFrame(model.predict(X_test), columns=['Predicted_Customers_Chinese', 'Predicted_Customers_India'])\n",
        "X_test['Date'] = X_test.apply(lambda row: f\"{row['Day']}/{row['Month']}/{row['Year']}\", axis=1)\n",
        "predictions['Date']= pd.to_datetime(X_test['Date'].values, format='%d/%m/%Y')\n",
        "predictions['Day_of_week'] = predictions['Date'].dt.day_name()\n",
        "X_test.reset_index(drop=True, inplace=True)\n",
        "predictions['Public Holiday'] = X_test['Public Holiday']\n",
        "predictions['Chinese_Buffet_Busy'] = predictions['Predicted_Customers_Chinese'].apply(is_busy)\n",
        "predictions['Indian_Buffet_Busy'] = predictions['Predicted_Customers_India'].apply(is_busy)\n",
        "predictions = predictions[['Date', 'Day_of_week', 'Public Holiday', 'Predicted_Customers_Chinese', 'Chinese_Buffet_Busy', 'Predicted_Customers_India', 'Indian_Buffet_Busy']]\n",
        "\n",
        "print(predictions)\n"
      ],
      "metadata": {
        "colab": {
          "base_uri": "https://localhost:8080/"
        },
        "outputId": "2f9752dd-a86c-4ee4-ff44-c814ceefc462",
        "id": "ayO1gifVwlJ7"
      },
      "execution_count": 67,
      "outputs": [
        {
          "output_type": "stream",
          "name": "stdout",
          "text": [
            "        Date Day_of_week  Public Holiday  Predicted_Customers_Chinese  \\\n",
            "0 2021-02-25    Thursday               0                         87.0   \n",
            "1 2023-03-27      Monday               0                        105.0   \n",
            "2 2023-12-30    Saturday               0                        148.0   \n",
            "3 2022-04-15      Friday               1                        123.0   \n",
            "4 2022-01-08    Saturday               0                        101.0   \n",
            "5 2023-10-28    Saturday               0                        127.0   \n",
            "6 2022-08-06    Saturday               0                        176.0   \n",
            "\n",
            "   Chinese_Buffet_Busy  Predicted_Customers_India  Indian_Buffet_Busy  \n",
            "0                False                       83.0               False  \n",
            "1                 True                       86.0               False  \n",
            "2                 True                        0.0               False  \n",
            "3                 True                      199.0                True  \n",
            "4                 True                       83.0               False  \n",
            "5                 True                       95.0               False  \n",
            "6                 True                       97.0               False  \n"
          ]
        },
        {
          "output_type": "stream",
          "name": "stderr",
          "text": [
            "<ipython-input-67-7b081987651b>:6: UserWarning: Parsing dates in DD/MM/YYYY format when dayfirst=False (the default) was specified. This may lead to inconsistently parsed dates! Specify a format to ensure consistent parsing.\n",
            "  data['Date'] = pd.to_datetime(data['Date'])\n"
          ]
        }
      ]
    },
    {
      "cell_type": "code",
      "source": [
        "predictions.to_csv('2024 predictions.csv')"
      ],
      "metadata": {
        "id": "tv1pf-zq-apu"
      },
      "execution_count": 71,
      "outputs": []
    }
  ]
}