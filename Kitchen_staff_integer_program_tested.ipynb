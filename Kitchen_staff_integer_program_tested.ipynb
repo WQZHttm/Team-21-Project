{
  "nbformat": 4,
  "nbformat_minor": 0,
  "metadata": {
    "colab": {
      "private_outputs": true,
      "provenance": []
    },
    "kernelspec": {
      "name": "python3",
      "display_name": "Python 3"
    },
    "language_info": {
      "name": "python"
    }
  },
  "cells": [
    {
      "cell_type": "code",
      "source": [
        "!pip3 install ortools"
      ],
      "metadata": {
        "id": "iPOP0oVGYY1T"
      },
      "execution_count": null,
      "outputs": []
    },
    {
      "cell_type": "code",
      "source": [
        "from ortools.linear_solver import pywraplp\n",
        "solver = pywraplp.Solver.CreateSolver('SCIP')\n",
        "#why GLOP doesnt work?"
      ],
      "metadata": {
        "id": "RzxnclhpX4s_"
      },
      "execution_count": null,
      "outputs": []
    },
    {
      "cell_type": "code",
      "source": [
        "import pandas as pd"
      ],
      "metadata": {
        "id": "C-Ij-hpewJsY"
      },
      "execution_count": null,
      "outputs": []
    },
    {
      "cell_type": "code",
      "source": [
        "def calculate_hourly_rate(day, public_holiday):\n",
        "  if public_holiday:\n",
        "    return 17\n",
        "  elif day == 'Saturday' or day == 'Sunday':\n",
        "      return 16\n",
        "  else:\n",
        "      return 15\n",
        "\n",
        "def calculate_hourly_rate_part(day, public_holiday):\n",
        "  if public_holiday:\n",
        "    return 15\n",
        "  elif day == 'Saturday' or day == 'Sunday':\n",
        "    return 14\n",
        "  else:\n",
        "    return 13"
      ],
      "metadata": {
        "id": "sZpIzzZI_0nN"
      },
      "execution_count": null,
      "outputs": []
    },
    {
      "cell_type": "code",
      "source": [
        "def transform():\n",
        "  chefs = ['A1', 'A2', 'A3', 'A4', 'A5']\n",
        "  service = ['B1', 'B2', 'B3', 'B4', 'B5']\n",
        "  dishwashers = ['C1', 'C2']\n",
        "  parttimers = ['D1', 'D2', 'D3']\n",
        "  schedule_data = []\n",
        "  for chunk in pd.read_csv('2024 predictions (2).csv', chunksize=7):\n",
        "    chunk = chunk.reset_index(drop=True)\n",
        "    final_schedule = smart_Schedule(chunk)\n",
        "\n",
        "    for idx, row in chunk.iterrows():\n",
        "      date = row['Date']\n",
        "      day = row['Day_of_week']\n",
        "      public_holiday = row['Public Holiday']\n",
        "      hourly_rate = calculate_hourly_rate(day, public_holiday)\n",
        "      hourly_rate_part = calculate_hourly_rate_part(day, public_holiday)\n",
        "\n",
        "      for employee_id in final_schedule[idx][0]:\n",
        "        if employee_id in chefs:\n",
        "          schedule_data.append([date, day, employee_id, '10am-4.30pm', 'chef', 6.5, hourly_rate, 'full-time'])\n",
        "        elif employee_id in service:\n",
        "          schedule_data.append([date, day, employee_id, '10am-4.30pm', 'service', 6.5, hourly_rate, 'full-time'])\n",
        "        elif employee_id in parttimers:\n",
        "          schedule_data.append([date, day, employee_id, '10am-4.30pm', 'service', 6.5, hourly_rate_part, 'part-time'])\n",
        "        else:\n",
        "          schedule_data.append([date, day, employee_id, '10am-4.30pm', 'dishwasher', 6.5, hourly_rate, 'full-time'])\n",
        "\n",
        "\n",
        "      for employee_id in final_schedule[idx][7]:\n",
        "        if employee_id in chefs:\n",
        "          schedule_data.append([date, day, employee_id, '7pm-10pm', 'chef', 3, hourly_rate, 'full-time'])\n",
        "        elif employee_id in service:\n",
        "          schedule_data.append([date, day, employee_id, '7pm-10pm', 'service', 3, hourly_rate, 'full-time'])\n",
        "        elif employee_id in parttimers:\n",
        "          schedule_data.append([date, day, employee_id, '7pm-10pm', 'service', 3, hourly_rate_part, 'part-time'])\n",
        "        else:\n",
        "          schedule_data.append([date, day, employee_id, '7pm-10pm', 'dishwasher', 3, hourly_rate, 'full-time'])\n",
        "\n",
        "\n",
        "      for employee_id in final_schedule[idx][8]:\n",
        "        if schedule_data:\n",
        "          for rw in schedule_data:\n",
        "            if employee_id in rw and date in rw and rw[3] == '7pm-10pm':\n",
        "              break\n",
        "          else:\n",
        "            if employee_id in chefs:\n",
        "              schedule_data.append([date, day, employee_id, '8pm-10pm', 'chef', 2, hourly_rate, 'full-time'])\n",
        "            elif employee_id in service:\n",
        "              schedule_data.append([date, day, employee_id, '8pm-10pm', 'service', 2, hourly_rate, 'full-time'])\n",
        "            elif employee_id in parttimers:\n",
        "              schedule_data.append([date, day, employee_id, '8pm-10pm', 'service', 2, hourly_rate_part, 'part-time'])\n",
        "            else:\n",
        "              schedule_data.append([date, day, employee_id, '8pm-10pm', 'dishwasher', 2, hourly_rate, 'full-time'])\n",
        "\n",
        "  final_sched = pd.DataFrame(schedule_data, columns=['Date', 'Day', 'Employee_ID', 'Shift', 'Role', 'Hours_worked', 'Hourly_rate', 'Job_status'])\n",
        "  final_sched['Date'] = pd.to_datetime(final_sched['Date'], errors='coerce')\n",
        "  final_sched = final_sched.sort_values(by=['Date', 'Shift', 'Employee_ID'])\n",
        "  final_sched = final_sched.dropna()\n",
        "  final_sched.to_csv('final_schedule.csv', index=False)\n",
        "\n",
        "transform()\n"
      ],
      "metadata": {
        "id": "_s_EZvZ4fUrx"
      },
      "execution_count": null,
      "outputs": []
    }
  ]
}