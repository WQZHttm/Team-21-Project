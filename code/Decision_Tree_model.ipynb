{
  "nbformat": 4,
  "nbformat_minor": 0,
  "metadata": {
    "colab": {
      "provenance": []
    },
    "kernelspec": {
      "name": "python3",
      "display_name": "Python 3"
    },
    "language_info": {
      "name": "python"
    }
  },
  "cells": [
    {
      "cell_type": "code",
      "source": [
        "import numpy as np\n",
        "import pandas as pd\n",
        "from datetime import datetime\n",
        "from sklearn.model_selection import train_test_split\n",
        "from sklearn.tree import DecisionTreeRegressor\n",
        "\n",
        "data = pd.read_csv('data.csv')\n",
        "data['Date'] = pd.to_datetime(data['Date'],dayfirst = True)\n",
        "data['Year'] = data['Date'].dt.year\n",
        "data['Month'] = data['Date'].dt.month\n",
        "data['Day_of_week'] = data['Date'].dt.dayofweek\n",
        "data['Day'] = data['Date'].dt.day\n",
        "public_holidays_df = data[data['Public Holiday'].notna()]\n",
        "public_holidays_df['Date'] = public_holidays_df['Date'].dt.strftime('%d/%m/%Y')\n",
        "data['Public Holiday'] = data['Public Holiday'].fillna(0)\n",
        "data['Public Holiday'] = data['Public Holiday'].apply(lambda x: 1 if x else 0)\n",
        "data['Event'] = data['Event'].apply(lambda x: 1 if x == 'TRUE' else 0)\n",
        "\n",
        "X = data[['Day_of_week', 'Day', 'Month', 'Year','Event', 'Public Holiday',\n",
        "          'India_Reservation']]\n",
        "y = data[['Customers_Chinese', 'Customers_India']]\n",
        "\n",
        "busy_threshold = 100\n",
        "def is_busy(customers_prediction):\n",
        "    return customers_prediction > busy_threshold\n",
        "\n",
        "X_train,X_test,y_train, y_test = train_test_split(X,y,test_size = 7)\n",
        "\n",
        "model = DecisionTreeRegressor(random_state=42)\n",
        "model.fit(X_train,y_train)\n",
        "\n",
        "predictions = pd.DataFrame(model.predict(X_test), columns=['Predicted_Customers_Chinese', 'Predicted_Customers_India'])\n",
        "X_test.reset_index(drop=True, inplace=True)\n",
        "date = X_test.apply(lambda row: f\"{row['Day']}/{row['Month']}/{row['Year']}\", axis=1)\n",
        "predictions['Date'] = pd.to_datetime(date).dt.strftime('%d/%m/%Y')\n",
        "predictions['Day'] = pd.to_datetime(date).dt.day_name()\n",
        "\n",
        "def get_public_holiday(date):\n",
        "    if date in public_holidays_df['Date'].values:\n",
        "        return public_holidays_df.loc[public_holidays_df['Date'] == date, 'Public Holiday'].iloc[0]\n",
        "    else:\n",
        "        return ''\n",
        "predictions['Public Holiday'] = predictions['Date'].apply(get_public_holiday)\n",
        "predictions['India_Reservation'] = X_test['India_Reservation']\n",
        "predictions['Chinese_Buffet_Busy'] = predictions['Predicted_Customers_Chinese'].apply(is_busy)\n",
        "predictions['Indian_Buffet_Busy'] = predictions['Predicted_Customers_India'].apply(is_busy)\n",
        "predictions = predictions[['Date', 'Day', 'Public Holiday', 'Predicted_Customers_Chinese', 'Chinese_Buffet_Busy', 'India_Reservation','Predicted_Customers_India', 'Indian_Buffet_Busy']]\n",
        "\n",
        "print(predictions)\n"
      ],
      "metadata": {
        "id": "ayO1gifVwlJ7",
        "colab": {
          "base_uri": "https://localhost:8080/"
        },
        "outputId": "f9abb570-1fea-4305-e6f0-f6a1a9700cd4"
      },
      "execution_count": 6,
      "outputs": [
        {
          "output_type": "stream",
          "name": "stdout",
          "text": [
            "         Date       Day Public Holiday  Predicted_Customers_Chinese  \\\n",
            "0  20/10/2023    Friday                                       117.0   \n",
            "1  21/01/2022    Friday                                       142.0   \n",
            "2  10/06/2021  Thursday                                        96.0   \n",
            "3  23/10/2022    Sunday                                       134.0   \n",
            "4  16/06/2023    Friday                                       139.0   \n",
            "5  26/04/2021    Monday                                       118.0   \n",
            "6  15/07/2023  Saturday                                       175.0   \n",
            "\n",
            "   Chinese_Buffet_Busy  India_Reservation  Predicted_Customers_India  \\\n",
            "0                 True               True                       84.0   \n",
            "1                 True               True                       95.0   \n",
            "2                False               True                       88.0   \n",
            "3                 True              False                        0.0   \n",
            "4                 True              False                        0.0   \n",
            "5                 True              False                        0.0   \n",
            "6                 True              False                        0.0   \n",
            "\n",
            "   Indian_Buffet_Busy  \n",
            "0               False  \n",
            "1               False  \n",
            "2               False  \n",
            "3               False  \n",
            "4               False  \n",
            "5               False  \n",
            "6               False  \n"
          ]
        },
        {
          "output_type": "stream",
          "name": "stderr",
          "text": [
            "<ipython-input-6-5ce0c8acb8e2>:14: SettingWithCopyWarning: \n",
            "A value is trying to be set on a copy of a slice from a DataFrame.\n",
            "Try using .loc[row_indexer,col_indexer] = value instead\n",
            "\n",
            "See the caveats in the documentation: https://pandas.pydata.org/pandas-docs/stable/user_guide/indexing.html#returning-a-view-versus-a-copy\n",
            "  public_holidays_df['Date'] = public_holidays_df['Date'].dt.strftime('%d/%m/%Y')\n",
            "<ipython-input-6-5ce0c8acb8e2>:35: UserWarning: Parsing dates in DD/MM/YYYY format when dayfirst=False (the default) was specified. This may lead to inconsistently parsed dates! Specify a format to ensure consistent parsing.\n",
            "  predictions['Date'] = pd.to_datetime(date).dt.strftime('%d/%m/%Y')\n",
            "<ipython-input-6-5ce0c8acb8e2>:36: UserWarning: Parsing dates in DD/MM/YYYY format when dayfirst=False (the default) was specified. This may lead to inconsistently parsed dates! Specify a format to ensure consistent parsing.\n",
            "  predictions['Day'] = pd.to_datetime(date).dt.day_name()\n"
          ]
        }
      ]
    }
  ]
}