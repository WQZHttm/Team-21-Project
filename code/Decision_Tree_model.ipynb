{
  "nbformat": 4,
  "nbformat_minor": 0,
  "metadata": {
    "colab": {
      "provenance": []
    },
    "kernelspec": {
      "name": "python3",
      "display_name": "Python 3"
    },
    "language_info": {
      "name": "python"
    }
  },
  "cells": [
    {
      "cell_type": "code",
      "source": [
        "import pandas as pd\n",
        "from sklearn.model_selection import train_test_split\n",
        "from sklearn.tree import DecisionTreeRegressor\n",
        "\n",
        "data = pd.read_csv('data.csv')\n",
        "data['Date'] = pd.to_datetime(data['Date'])\n",
        "data['Year'] = data['Date'].dt.year\n",
        "data['Month'] = data['Date'].dt.month\n",
        "data['Day_of_week'] = data['Date'].dt.dayofweek\n",
        "data['Day'] = data['Date'].dt.day\n",
        "ph = data['Public Holiday'].copy()\n",
        "data['Public Holiday'] = data['Public Holiday'].fillna(0)\n",
        "data['Public Holiday'] = data['Public Holiday'].apply(lambda x: 1 if x else 0)\n",
        "data['Event'] = data['Event'].apply(lambda x: 1 if x == 'TRUE' else 0)\n",
        "\n",
        "X = data[['Day_of_week', 'Day', 'Month', 'Year','Event', 'Public Holiday',\n",
        "          'India_Reservation']]\n",
        "y = data[['Customers_Chinese', 'Customers_India']]\n",
        "\n",
        "busy_threshold = 100\n",
        "def is_busy(customers_prediction):\n",
        "    return customers_prediction > busy_threshold\n",
        "\n",
        "X_train,X_test,y_train, y_test = train_test_split(X,y,test_size = 7)\n",
        "\n",
        "model = DecisionTreeRegressor(random_state=42)\n",
        "model.fit(X_train,y_train)\n",
        "\n",
        "predictions = pd.DataFrame(model.predict(X_test), columns=['Predicted_Customers_Chinese', 'Predicted_Customers_India'])\n",
        "X_test['Date'] = X_test.apply(lambda row: f\"{row['Day']}/{row['Month']}/{row['Year']}\", axis=1)\n",
        "predictions['Date']= pd.to_datetime(X_test['Date'].values, format='%d/%m/%Y')\n",
        "predictions['Day'] = predictions['Date'].dt.day_name()\n",
        "X_test.reset_index(drop=True, inplace=True)\n",
        "predictions['Public Holiday'] = ph\n",
        "predictions['India_Reservation'] = X_test['India_Reservation']\n",
        "predictions['Chinese_Buffet_Busy'] = predictions['Predicted_Customers_Chinese'].apply(is_busy)\n",
        "predictions['Indian_Buffet_Busy'] = predictions['Predicted_Customers_India'].apply(is_busy)\n",
        "predictions = predictions[['Date', 'Day', 'Public Holiday', 'Predicted_Customers_Chinese', 'Chinese_Buffet_Busy', 'India_Reservation','Predicted_Customers_India', 'Indian_Buffet_Busy']]\n",
        "\n",
        "print(predictions)\n"
      ],
      "metadata": {
        "id": "ayO1gifVwlJ7"
      },
      "execution_count": null,
      "outputs": []
    }
  ]
}