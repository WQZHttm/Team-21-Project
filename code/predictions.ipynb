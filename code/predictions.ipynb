{
  "nbformat": 4,
  "nbformat_minor": 0,
  "metadata": {
    "colab": {
      "provenance": []
    },
    "kernelspec": {
      "name": "python3",
      "display_name": "Python 3"
    },
    "language_info": {
      "name": "python"
    }
  },
  "cells": [
    {
      "cell_type": "code",
      "source": [
        "import numpy as np\n",
        "import pandas as pd\n",
        "from datetime import datetime\n",
        "from sklearn.model_selection import train_test_split\n",
        "from sklearn.tree import DecisionTreeRegressor\n",
        "\n",
        "data = pd.read_csv('data.csv')\n",
        "data['Date'] = pd.to_datetime(data['Date'],dayfirst = True)\n",
        "data['Year'] = data['Date'].dt.year\n",
        "data['Month'] = data['Date'].dt.month\n",
        "data['Day_of_week'] = data['Date'].dt.dayofweek\n",
        "data['Day'] = data['Date'].dt.day\n",
        "public_holidays_df = data[data['Public Holiday'].notna()]\n",
        "public_holidays_df['Date'] = public_holidays_df['Date'].dt.strftime('%d/%m/%Y')\n",
        "data['Public Holiday'] = data['Public Holiday'].fillna(0)\n",
        "data['Public Holiday'] = data['Public Holiday'].apply(lambda x: 1 if x else 0)\n",
        "data['Event'] = data['Event'].apply(lambda x: 1 if x == 'TRUE' else 0)\n",
        "\n",
        "X = data[['Day_of_week', 'Day', 'Month', 'Year','Event', 'Public Holiday',\n",
        "          'India_Reservation']]\n",
        "y = data[['Customers_Chinese', 'Customers_India']]\n",
        "\n",
        "busy_threshold = 100\n",
        "def is_busy(customers_prediction):\n",
        "    return customers_prediction > busy_threshold\n",
        "\n",
        "X_train,X_test,y_train, y_test = train_test_split(X,y,test_size = 7)\n",
        "\n",
        "model = DecisionTreeRegressor(random_state=42)\n",
        "model.fit(X_train,y_train)\n",
        "\n",
        "predictions = pd.DataFrame(model.predict(X_test), columns=['Predicted_Customers_Chinese', 'Predicted_Customers_India'])\n",
        "X_test.reset_index(drop=True, inplace=True)\n",
        "date = X_test.apply(lambda row: f\"{row['Day']}/{row['Month']}/{row['Year']}\", axis=1)\n",
        "predictions['Date'] = pd.to_datetime(date).dt.strftime('%d/%m/%Y')\n",
        "predictions['Day'] = pd.to_datetime(date).dt.day_name()\n",
        "\n",
        "def get_public_holiday(date):\n",
        "    if date in public_holidays_df['Date'].values:\n",
        "        return public_holidays_df.loc[public_holidays_df['Date'] == date, 'Public Holiday'].iloc[0]\n",
        "    else:\n",
        "        return ''\n",
        "predictions['Public Holiday'] = predictions['Date'].apply(get_public_holiday)\n",
        "predictions['India_Reservation'] = X_test['India_Reservation']\n",
        "predictions['Chinese_Buffet_Busy'] = predictions['Predicted_Customers_Chinese'].apply(is_busy)\n",
        "predictions['Indian_Buffet_Busy'] = predictions['Predicted_Customers_India'].apply(is_busy)\n",
        "predictions = predictions[['Date', 'Day', 'Public Holiday', 'Predicted_Customers_Chinese', 'Chinese_Buffet_Busy', 'India_Reservation','Predicted_Customers_India', 'Indian_Buffet_Busy']]\n",
        "\n",
        "print(predictions)\n"
      ],
      "metadata": {
        "id": "ayO1gifVwlJ7",
        "colab": {
          "base_uri": "https://localhost:8080/"
        },
        "outputId": "239779cc-7fe3-4c65-b0eb-62987351509c"
      },
      "execution_count": 155,
      "outputs": [
        {
          "output_type": "stream",
          "name": "stdout",
          "text": [
            "         Date        Day Public Holiday  Predicted_Customers_Chinese  \\\n",
            "0  29/05/2023     Monday                                        92.0   \n",
            "1  09/03/2022  Wednesday                                       147.0   \n",
            "2  27/08/2022   Saturday                                       142.0   \n",
            "3  27/10/2023     Friday                                       119.0   \n",
            "4  15/06/2022  Wednesday                                       108.0   \n",
            "5  29/11/2023  Wednesday                                        82.0   \n",
            "6  18/01/2021     Monday                                       109.0   \n",
            "\n",
            "   Chinese_Buffet_Busy  India_Reservation  Predicted_Customers_India  \\\n",
            "0                False              False                        0.0   \n",
            "1                 True              False                        0.0   \n",
            "2                 True               True                      135.0   \n",
            "3                 True              False                        0.0   \n",
            "4                 True              False                        0.0   \n",
            "5                False               True                       87.0   \n",
            "6                 True               True                       64.0   \n",
            "\n",
            "   Indian_Buffet_Busy  \n",
            "0               False  \n",
            "1               False  \n",
            "2                True  \n",
            "3               False  \n",
            "4               False  \n",
            "5               False  \n",
            "6               False  \n"
          ]
        },
        {
          "output_type": "stream",
          "name": "stderr",
          "text": [
            "<ipython-input-155-5ce0c8acb8e2>:14: SettingWithCopyWarning: \n",
            "A value is trying to be set on a copy of a slice from a DataFrame.\n",
            "Try using .loc[row_indexer,col_indexer] = value instead\n",
            "\n",
            "See the caveats in the documentation: https://pandas.pydata.org/pandas-docs/stable/user_guide/indexing.html#returning-a-view-versus-a-copy\n",
            "  public_holidays_df['Date'] = public_holidays_df['Date'].dt.strftime('%d/%m/%Y')\n",
            "<ipython-input-155-5ce0c8acb8e2>:35: UserWarning: Parsing dates in DD/MM/YYYY format when dayfirst=False (the default) was specified. This may lead to inconsistently parsed dates! Specify a format to ensure consistent parsing.\n",
            "  predictions['Date'] = pd.to_datetime(date).dt.strftime('%d/%m/%Y')\n",
            "<ipython-input-155-5ce0c8acb8e2>:36: UserWarning: Parsing dates in DD/MM/YYYY format when dayfirst=False (the default) was specified. This may lead to inconsistently parsed dates! Specify a format to ensure consistent parsing.\n",
            "  predictions['Day'] = pd.to_datetime(date).dt.day_name()\n"
          ]
        }
      ]
    },
    {
      "cell_type": "code",
      "source": [
        "test_2024 = pd.read_csv('test.csv')\n",
        "test_2024.drop(columns = ['Unnamed: 0'], inplace = True)\n"
      ],
      "metadata": {
        "id": "FU0xrVQL7cxt"
      },
      "execution_count": 158,
      "outputs": []
    },
    {
      "cell_type": "code",
      "source": [
        "day = test_2024['Day'].copy()\n",
        "test_2024['Date'] = pd.to_datetime(test_2024['Date'], dayfirst = False)\n",
        "test_2024['Year'] = test_2024['Date'].dt.year\n",
        "test_2024['Month'] = test_2024['Date'].dt.month\n",
        "test_2024['Day_of_week'] = test_2024['Date'].dt.dayofweek\n",
        "test_2024['Day'] = test_2024['Date'].dt.day\n",
        "public_holidays_df = test_2024[test_2024['Public Holiday'].notna()]\n",
        "public_holidays_df['Date'] = public_holidays_df['Date'].dt.strftime('%d/%m/%Y')\n",
        "test_2024['Public Holiday'] = test_2024['Public Holiday'].fillna(0)\n",
        "test_2024['Public Holiday'] = test_2024['Public Holiday'].apply(lambda x: 1 if x else 0)\n",
        "test_2024['Event'] = test_2024['Event'].apply(lambda x: 1 if x == 'TRUE' else 0)\n",
        "\n",
        "test_2024_x = test_2024[['Day_of_week', 'Day', 'Month', 'Year','Event', 'Public Holiday',\n",
        "          'India_Reservation']]"
      ],
      "metadata": {
        "id": "Nvnke68u8YfR",
        "colab": {
          "base_uri": "https://localhost:8080/"
        },
        "outputId": "673f5e60-48eb-4983-a9d3-f2192b27d85a"
      },
      "execution_count": 159,
      "outputs": [
        {
          "output_type": "stream",
          "name": "stderr",
          "text": [
            "<ipython-input-159-27d424c1af0e>:8: SettingWithCopyWarning: \n",
            "A value is trying to be set on a copy of a slice from a DataFrame.\n",
            "Try using .loc[row_indexer,col_indexer] = value instead\n",
            "\n",
            "See the caveats in the documentation: https://pandas.pydata.org/pandas-docs/stable/user_guide/indexing.html#returning-a-view-versus-a-copy\n",
            "  public_holidays_df['Date'] = public_holidays_df['Date'].dt.strftime('%d/%m/%Y')\n"
          ]
        }
      ]
    },
    {
      "cell_type": "code",
      "source": [
        "predictions = pd.DataFrame(model.predict(test_2024_x), columns=['Predicted_Customers_Chinese', 'Predicted_Customers_India'])\n",
        "date = test_2024_x.apply(lambda row: f\"{row['Day']}/{row['Month']}/{row['Year']}\", axis=1)\n",
        "predictions['Date'] = pd.to_datetime(date).dt.strftime('%d/%m/%Y')\n",
        "predictions['Day'] = pd.to_datetime(date).dt.day_name()\n",
        "test_2024_x.reset_index(drop=True, inplace=True)\n",
        "\n",
        "def get_public_holiday(date):\n",
        "    if date in public_holidays_df['Date'].values:\n",
        "        return public_holidays_df.loc[public_holidays_df['Date'] == date, 'Public Holiday'].iloc[0]\n",
        "    else:\n",
        "        return ''\n",
        "predictions['Public Holiday'] = predictions['Date'].apply(get_public_holiday)\n",
        "predictions['India_Reservation'] = test_2024_x['India_Reservation']\n",
        "predictions['Chinese_Buffet_Busy'] = predictions['Predicted_Customers_Chinese'].apply(is_busy)\n",
        "predictions['Indian_Buffet_Busy'] = predictions['Predicted_Customers_India'].apply(is_busy)\n",
        "predictions = predictions[['Date', 'Day', 'Public Holiday', 'Predicted_Customers_Chinese', 'Chinese_Buffet_Busy', 'India_Reservation','Predicted_Customers_India', 'Indian_Buffet_Busy']]\n",
        "\n",
        "print(predictions)"
      ],
      "metadata": {
        "id": "AfIMHM7Z8gkT",
        "colab": {
          "base_uri": "https://localhost:8080/"
        },
        "outputId": "7c0d9204-8356-4d1d-b070-eb3aad7f6db7"
      },
      "execution_count": 160,
      "outputs": [
        {
          "output_type": "stream",
          "name": "stdout",
          "text": [
            "           Date        Day  Public Holiday  Predicted_Customers_Chinese  \\\n",
            "0    01/01/2024     Monday  New Year's Day                        177.0   \n",
            "1    01/02/2024   Thursday                                        103.0   \n",
            "2    01/03/2024     Friday                                         98.0   \n",
            "3    01/04/2024     Monday                                         83.0   \n",
            "4    01/05/2024  Wednesday      Labour Day                         97.0   \n",
            "..          ...        ...             ...                          ...   \n",
            "366  01/01/2025  Wednesday  New Year's Day                        177.0   \n",
            "367  01/02/2025   Saturday                                         83.0   \n",
            "368  01/03/2025   Saturday                                         89.0   \n",
            "369  01/04/2025    Tuesday                                        168.0   \n",
            "370  01/05/2025   Thursday                                        168.0   \n",
            "\n",
            "     Chinese_Buffet_Busy  India_Reservation  Predicted_Customers_India  \\\n",
            "0                   True               True                       96.0   \n",
            "1                   True               True                       82.0   \n",
            "2                  False              False                        0.0   \n",
            "3                  False               True                       60.0   \n",
            "4                  False               True                       63.0   \n",
            "..                   ...                ...                        ...   \n",
            "366                 True               True                       96.0   \n",
            "367                False               True                       60.0   \n",
            "368                False               True                       60.0   \n",
            "369                 True               True                      132.0   \n",
            "370                 True               True                      132.0   \n",
            "\n",
            "     Indian_Buffet_Busy  \n",
            "0                 False  \n",
            "1                 False  \n",
            "2                 False  \n",
            "3                 False  \n",
            "4                 False  \n",
            "..                  ...  \n",
            "366               False  \n",
            "367               False  \n",
            "368               False  \n",
            "369                True  \n",
            "370                True  \n",
            "\n",
            "[371 rows x 8 columns]\n"
          ]
        },
        {
          "output_type": "stream",
          "name": "stderr",
          "text": [
            "<ipython-input-160-3c93efc0cc58>:3: UserWarning: Parsing dates in DD/MM/YYYY format when dayfirst=False (the default) was specified. This may lead to inconsistently parsed dates! Specify a format to ensure consistent parsing.\n",
            "  predictions['Date'] = pd.to_datetime(date).dt.strftime('%d/%m/%Y')\n",
            "<ipython-input-160-3c93efc0cc58>:4: UserWarning: Parsing dates in DD/MM/YYYY format when dayfirst=False (the default) was specified. This may lead to inconsistently parsed dates! Specify a format to ensure consistent parsing.\n",
            "  predictions['Day'] = pd.to_datetime(date).dt.day_name()\n"
          ]
        }
      ]
    },
    {
      "cell_type": "code",
      "source": [
        "predictions['Date']"
      ],
      "metadata": {
        "colab": {
          "base_uri": "https://localhost:8080/"
        },
        "id": "M2qNsiIUoinN",
        "outputId": "c15953af-9057-411f-9855-fc0d621ac6cc"
      },
      "execution_count": 131,
      "outputs": [
        {
          "output_type": "execute_result",
          "data": {
            "text/plain": [
              "0      1/1/2024\n",
              "1      2/1/2024\n",
              "2      3/1/2024\n",
              "3      4/1/2024\n",
              "4      5/1/2024\n",
              "         ...   \n",
              "366    1/1/2025\n",
              "367    2/1/2025\n",
              "368    3/1/2025\n",
              "369    4/1/2025\n",
              "370    5/1/2025\n",
              "Name: Date, Length: 371, dtype: object"
            ]
          },
          "metadata": {},
          "execution_count": 131
        }
      ]
    },
    {
      "cell_type": "code",
      "source": [
        "predictions.to_csv('predictions.csv',index = False)"
      ],
      "metadata": {
        "id": "tv1pf-zq-apu"
      },
      "execution_count": 117,
      "outputs": []
    }
  ]
}