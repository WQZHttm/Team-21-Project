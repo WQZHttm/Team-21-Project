{
  "nbformat": 4,
  "nbformat_minor": 0,
  "metadata": {
    "colab": {
      "provenance": []
    },
    "kernelspec": {
      "name": "python3",
      "display_name": "Python 3"
    },
    "language_info": {
      "name": "python"
    }
  },
  "cells": [
    {
      "cell_type": "code",
      "execution_count": 2,
      "metadata": {
        "id": "2tbrQsGS3M5s"
      },
      "outputs": [],
      "source": [
        "import csv\n",
        "import pandas as pd\n",
        "import numpy as np"
      ]
    },
    {
      "cell_type": "code",
      "source": [
        "# Generate date range\n",
        "date_range = pd.date_range(start=\"2024-01-01\", end=\"2025-01-05\")\n",
        "\n",
        "public_holidays = {\n",
        "    \"2024-01-01\": \"New Year's Day\",\n",
        "    \"2024-02-10\": \"Chinese New Year\",\n",
        "    \"2024-02-11\": \"Chinese New Year\",\n",
        "    \"2024-02-12\": \"Chinese New Year\",\n",
        "    \"2024-03-29\": \"Good Friday\",\n",
        "    \"2024-04-10\": \"Hari Raya Puasa\",\n",
        "    \"2024-05-01\": \"Labour Day\",\n",
        "    \"2024-05-22\": \"Vesak Day\",\n",
        "    \"2024-06-17\": \"Hari Raya Haji\",\n",
        "    \"2024-08-09\": \"National Day\",\n",
        "    \"2024-10-31\": \"Deepavali\",\n",
        "    \"2024-12-25\": \"Christmas Day\",\n",
        "    \"2025-01-01\": \"New Year's Day\",\n",
        "}\n",
        "\n",
        "# Day of the week column\n",
        "days_of_week = date_range.day_name()\n",
        "\n",
        "# Adding public holiday column\n",
        "holiday_names = [public_holidays.get(date.strftime(\"%Y-%m-%d\"), \"\") for date in date_range]\n",
        "\n",
        "df = pd.DataFrame({\n",
        "    \"Date\": date_range,\n",
        "    \"Day\": days_of_week,\n",
        "    \"Public Holiday\": holiday_names\n",
        "})\n",
        "\n",
        "# add Month column\n",
        "df['Month'] = df['Date'].dt.month_name()\n",
        "\n",
        "def assign_promotions(dates):\n",
        "    unique_months = dates.dt.to_period('M').unique()\n",
        "    promotion_days = []\n",
        "\n",
        "    for month in unique_months:\n",
        "        month_days = dates[dates.dt.to_period('M') == month]\n",
        "        promotions = np.random.choice(month_days, size=min(3, len(month_days)), replace=False)\n",
        "        promotion_days.extend(promotions)\n",
        "\n",
        "    return dates.isin(promotion_days)\n",
        "\n",
        "# Apply the function to assign promotions\n",
        "df['Event'] = assign_promotions(df['Date'])\n",
        "\n",
        "# India Reservation\n",
        "np.random.seed(45)\n",
        "# Generating random reservations (1 or 0) for each day\n",
        "df['India_Reservation'] = np.random.choice([True, False], size=len(df))\n",
        "\n",
        "# adjust reservation to be true when there is holiday or promotion\n",
        "# on holiday and events, I assume that there must be India reservation\n",
        "df.loc[df['Event'] | (df['Public Holiday'] != \"\"), 'India_Reservation'] = True\n",
        "\n",
        "df.to_csv('test.csv')"
      ],
      "metadata": {
        "id": "6v59YcxI3myy"
      },
      "execution_count": 6,
      "outputs": []
    }
  ]
}